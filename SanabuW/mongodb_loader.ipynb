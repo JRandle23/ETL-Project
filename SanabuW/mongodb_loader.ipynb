{
 "metadata": {
  "language_info": {
   "codemirror_mode": {
    "name": "ipython",
    "version": 3
   },
   "file_extension": ".py",
   "mimetype": "text/x-python",
   "name": "python",
   "nbconvert_exporter": "python",
   "pygments_lexer": "ipython3",
   "version": "3.8.3-final"
  },
  "orig_nbformat": 2,
  "kernelspec": {
   "name": "python3",
   "display_name": "Python 3.8.3 64-bit (conda)",
   "metadata": {
    "interpreter": {
     "hash": "7d06c78b7fa3ea48def9ac64787534e8fe2153a3c03b5835a64ca8f0cdb16eec"
    }
   }
  }
 },
 "nbformat": 4,
 "nbformat_minor": 2,
 "cells": [
  {
   "cell_type": "code",
   "execution_count": 1,
   "metadata": {},
   "outputs": [],
   "source": [
    "import pymongo\n",
    "import requests\n",
    "import json\n",
    "import time\n",
    "from datetime import datetime, timedelta\n",
    "from bs4 import BeautifulSoup\n",
    "import sys\n",
    "sys.path.append(\"../common\")\n",
    "from api_keys_local_SW import nyt_API_key"
   ]
  },
  {
   "cell_type": "code",
   "execution_count": 2,
   "metadata": {},
   "outputs": [],
   "source": [
    "conn = 'mongodb://localhost:27017'\n",
    "client = pymongo.MongoClient(conn)"
   ]
  },
  {
   "cell_type": "code",
   "execution_count": 3,
   "metadata": {},
   "outputs": [],
   "source": [
    "db = client.gs_search_db\n",
    "collection = db.gs_articles"
   ]
  },
  {
   "cell_type": "code",
   "execution_count": 4,
   "metadata": {},
   "outputs": [],
   "source": [
    "#define url/search params\n",
    "\n",
    "# set up utilities/params\n",
    "api_key = nyt_API_key\n",
    "search_terms = [\"gamestop\", \"reddit\"]\n",
    "#search_term_l = [\"gamestop\", \"term2\", \"term3\", \"term4\", \"term5\"]\n",
    "begin_date = \"20201201\"\n",
    "end_date = \"20210220\"\n",
    "current_page_counter = 0\n",
    "page_count_limit = 1\n",
    "searchCompleteVar = False\n",
    "search_term_count = 1\n",
    "\n",
    "\n"
   ]
  },
  {
   "source": [
    "        url = f'https://api.nytimes.com/svc/search/v2/articlesearch.json?q={search_term}&begin_date={begin_date}&end_date={end_date}&page={current_page_counter}&api-key={api_key}'\n",
    "print(url)"
   ],
   "cell_type": "markdown",
   "metadata": {}
  },
  {
   "source": [
    "\n",
    "response = requests.get(url)\n",
    "result = json.loads(response.content)"
   ],
   "cell_type": "markdown",
   "metadata": {}
  },
  {
   "source": [
    "with open('test/articlesearch_gamestop_202102.json', encoding=\"UTF-8\") as j:\n",
    "  json_data = json.load(j)"
   ],
   "cell_type": "markdown",
   "metadata": {}
  },
  {
   "source": [
    "if json_data != []:\n",
    "    print(\"OK!\")\n",
    "else:\n",
    "    print(\"NG!\")"
   ],
   "cell_type": "markdown",
   "metadata": {}
  },
  {
   "cell_type": "code",
   "execution_count": 6,
   "metadata": {},
   "outputs": [
    {
     "output_type": "stream",
     "name": "stdout",
     "text": [
      "\n",
      "The status code is 200 for page 0 of: gamestop\n",
      "https://api.nytimes.com/svc/search/v2/articlesearch.json?q=gamestop&begin_date=20201201&end_date=20210220&page=0\n",
      "Getting responses.\n",
      "\n",
      "The status code is 200 for page 1 of: gamestop\n",
      "https://api.nytimes.com/svc/search/v2/articlesearch.json?q=gamestop&begin_date=20201201&end_date=20210220&page=1\n",
      "Getting responses.\n",
      "At final page allowed. Starting new search term query.\n",
      "Moving to search term 2.\n",
      "\n",
      "The status code is 200 for page 0 of: reddit\n",
      "https://api.nytimes.com/svc/search/v2/articlesearch.json?q=reddit&begin_date=20201201&end_date=20210220&page=0\n",
      "Getting responses.\n",
      "\n",
      "The status code is 200 for page 1 of: reddit\n",
      "https://api.nytimes.com/svc/search/v2/articlesearch.json?q=reddit&begin_date=20201201&end_date=20210220&page=1\n",
      "Getting responses.\n",
      "At final page allowed. Starting new search term query.\n",
      "Moving to search term 3.\n"
     ]
    }
   ],
   "source": [
    "\n",
    "for term in search_terms:\n",
    "    search_post = {\n",
    "        }\n",
    "    articles_list = []\n",
    "\n",
    "    for p in term:\n",
    "        # sleep to follow API rules\n",
    "        time.sleep(6)\n",
    "        # defining url\n",
    "        url = f'https://api.nytimes.com/svc/search/v2/articlesearch.json?q={term}&begin_date={begin_date}&end_date={end_date}&page={current_page_counter}&api-key={api_key}'\n",
    "\n",
    "        # set up exception handling for the call\n",
    "        try:\n",
    "            # make request and turn into json object\n",
    "            requestObject = requests.get(url)\n",
    "            response = json.loads(requestObject.text)\n",
    "            print()\n",
    "            print(\"The status code is {}\".format(requestObject.status_code) + \" for page \" + str(current_page_counter) + \" of: \" + term)\n",
    "            print(requestObject.url[0:-41])\n",
    "        except:\n",
    "            # on call error, break from current search term loop and move to next search term\n",
    "            print()\n",
    "            print(\"Invalid results. Moving to next request.\")            \n",
    "            current_page_counter = 0\n",
    "            break\n",
    "\n",
    "        if requestObject.status_code == 200:\n",
    "            if response[\"response\"][\"docs\"] != []:\n",
    "            #for each article's docs section\n",
    "                print(f'Getting responses...')\n",
    "                for art in response[\"response\"][\"docs\"]:\n",
    "                    articles_list.append(art)\n",
    "            else:\n",
    "                print(f'End of results. Starting new search term query')\n",
    "                current_page_counter = 0\n",
    "                break                  \n",
    "            # check if requests are at their limit for search term\n",
    "            if current_page_counter == page_count_limit:\n",
    "                searchCompleteVar = False\n",
    "                print(f'At final page allowed.')\n",
    "                current_page_counter = 0\n",
    "                break\n",
    "            current_page_counter += 1\n",
    "    #add search term\n",
    "    search_post[\"search_term\"] = term\n",
    "    #add articles list\n",
    "    search_post[\"articles\"] = articles_list\n",
    "    #get hits number\n",
    "    search_post[\"hits\"] = response[\"response\"][\"meta\"][\"hits\"]\n",
    "    #add to collection\n",
    "    collection.insert_one(search_post)\n",
    "\n",
    "    #prep for next search term\n",
    "    search_term_count += 1\n",
    "    #move to next search term\n",
    "    #add if clause for \n",
    "    print(f'Moving to search term {search_term_count}.')"
   ]
  },
  {
   "cell_type": "code",
   "execution_count": null,
   "metadata": {},
   "outputs": [],
   "source": [
    "\n",
    "\n",
    "#build result object\n",
    "search_post = {}\n",
    "\n",
    "\n",
    "# for loop targeting each, lowest level for entire search term\n",
    "# for each search term, make request and build a dictionary\n",
    "    search_post = {\n",
    "        \"search_term\": t,        \n",
    "    }\n",
    "\n",
    "    # for each page, look into \"response\">\"docs\"\n",
    "    for p in search:\n",
    "        #for each article, get this info\n",
    "        for art in json_data[\"docs\"]\n",
    "            search_post = {\n",
    "                \"article\": art\n",
    "            }\n",
    "\n",
    "\n",
    "\n",
    "    post = {\n",
    "        \n",
    "    }\n",
    "\n",
    "\n",
    "\n"
   ]
  },
  {
   "cell_type": "code",
   "execution_count": null,
   "metadata": {},
   "outputs": [],
   "source": []
  },
  {
   "cell_type": "code",
   "execution_count": null,
   "metadata": {},
   "outputs": [],
   "source": [
    "collection.insert_one(fake_db)"
   ]
  },
  {
   "cell_type": "code",
   "execution_count": null,
   "metadata": {},
   "outputs": [],
   "source": []
  },
  {
   "cell_type": "code",
   "execution_count": null,
   "metadata": {},
   "outputs": [],
   "source": [
    "post = {\n",
    "    'article_name':\"name here\",\n",
    "    'att1':'val1',\n",
    "    'att2':'val2'\n",
    "}\n",
    "\n",
    "\n",
    "collection.insert_one(post)"
   ]
  },
  {
   "cell_type": "code",
   "execution_count": null,
   "metadata": {},
   "outputs": [],
   "source": [
    "hits = response[\"response\"][\"meta\"][\"hits\"]"
   ]
  },
  {
   "cell_type": "code",
   "execution_count": null,
   "metadata": {},
   "outputs": [],
   "source": [
    "result"
   ]
  },
  {
   "cell_type": "code",
   "execution_count": null,
   "metadata": {},
   "outputs": [],
   "source": [
    "post = {\n",
    "    'article_name':\"name here\",\n",
    "    'att1':'val1',\n",
    "    'att2':'val2'\n",
    "}\n",
    "\n",
    "\n",
    "collection.insert_one(post)"
   ]
  },
  {
   "cell_type": "code",
   "execution_count": null,
   "metadata": {},
   "outputs": [],
   "source": []
  }
 ]
}