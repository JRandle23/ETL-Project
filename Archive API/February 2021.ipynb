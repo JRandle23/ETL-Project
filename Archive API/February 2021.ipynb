{
 "cells": [
  {
   "cell_type": "code",
   "execution_count": 3,
   "metadata": {},
   "outputs": [],
   "source": [
    "import requests\n",
    "import json\n",
    "from config import api_key\n",
    "from pprint import pprint\n",
    "import pymongo\n",
    "from bs4 import BeautifulSoup"
   ]
  },
  {
   "cell_type": "code",
   "execution_count": 4,
   "metadata": {},
   "outputs": [],
   "source": [
    "conn = 'mongodb://localhost:27017'\n",
    "client = pymongo.MongoClient(conn)"
   ]
  },
  {
   "cell_type": "code",
   "execution_count": 5,
   "metadata": {},
   "outputs": [],
   "source": [
    "db = client.metadata_db\n",
    "collection = db.february2021"
   ]
  },
  {
   "cell_type": "code",
   "execution_count": null,
   "metadata": {},
   "outputs": [],
   "source": [
    "url = \"https://api.nytimes.com/svc/archive/v1/2021/2.json?api-key=jcHK4rhkonHOU2EUU8jQyCxLsiA11o5b\"\n",
    "february2021 = requests.get(url).json()\n",
    "pprint(february2021)"
   ]
  },
  {
   "cell_type": "code",
   "execution_count": 8,
   "metadata": {},
   "outputs": [],
   "source": [
    "results = february2021['response']['docs']\n",
    "\n",
    "for x in results:     \n",
    "    articles = {'_id':x['_id'],'abstract':x['abstract'],'byline':x['byline'],'document_type':x['document_type'],\n",
    "                     'headline':x['headline'], 'keywords':x['keywords'], 'lead_paragraph':x['lead_paragraph']}\n",
    "    \n",
    "    collection.insert_one(articles)"
   ]
  },
  {
   "cell_type": "code",
   "execution_count": null,
   "metadata": {},
   "outputs": [],
   "source": []
  }
 ],
 "metadata": {
  "kernelspec": {
   "display_name": "Python 3",
   "language": "python",
   "name": "python3"
  },
  "language_info": {
   "codemirror_mode": {
    "name": "ipython",
    "version": 3
   },
   "file_extension": ".py",
   "mimetype": "text/x-python",
   "name": "python",
   "nbconvert_exporter": "python",
   "pygments_lexer": "ipython3",
   "version": "3.8.3"
  }
 },
 "nbformat": 4,
 "nbformat_minor": 4
}
