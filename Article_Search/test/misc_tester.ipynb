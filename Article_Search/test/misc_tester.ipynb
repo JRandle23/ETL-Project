{
 "metadata": {
  "language_info": {
   "codemirror_mode": {
    "name": "ipython",
    "version": 3
   },
   "file_extension": ".py",
   "mimetype": "text/x-python",
   "name": "python",
   "nbconvert_exporter": "python",
   "pygments_lexer": "ipython3",
   "version": 3
  },
  "orig_nbformat": 2
 },
 "nbformat": 4,
 "nbformat_minor": 2,
 "cells": [
  {
   "cell_type": "code",
   "execution_count": null,
   "metadata": {},
   "outputs": [],
   "source": []
  },
  {
   "cell_type": "code",
   "execution_count": null,
   "metadata": {},
   "outputs": [],
   "source": [
    "                [\"keywords\": [\n",
    "                    {\n",
    "                        \"name\": \"organizations\",\n",
    "                        \"value\": \"GameStop Corporation\",\n",
    "                        \"rank\": 1,\n",
    "                        \"major\": \"N\"\n",
    "                    },\n",
    "                    {\n",
    "                        \"name\": \"organizations\",\n",
    "                        \"value\": \"Reddit Inc\",\n",
    "                        \"rank\": 2,\n",
    "                        \"major\": \"N\"\n",
    "                    },\n",
    "                    {\n",
    "                        \"name\": \"persons\",\n",
    "                        \"value\": \"Gill, Keith (1986- )\",\n",
    "                        \"rank\": 3,\n",
    "                        \"major\": \"N\"\n",
    "                    },\n",
    "                    {\n",
    "                        \"name\": \"organizations\",\n",
    "                        \"value\": \"House Committee on Financial Services\",\n",
    "                        \"rank\": 4,\n",
    "                        \"major\": \"N\"\n",
    "                    },\n",
    "                    {\n",
    "                        \"name\": \"subject\",\n",
    "                        \"value\": \"Stocks and Bonds\",\n",
    "                        \"rank\": 5,\n",
    "                        \"major\": \"N\"\n",
    "                    },\n",
    "                    {\n",
    "                        \"name\": \"subject\",\n",
    "                        \"value\": \"Short Selling\",\n",
    "                        \"rank\": 6,\n",
    "                        \"major\": \"N\"\n",
    "                    }\n",
    "                ]\n",
    "                ]"
   ]
  }
 ]
}